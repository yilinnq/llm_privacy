{
 "cells": [
  {
   "cell_type": "code",
   "execution_count": 3,
   "metadata": {},
   "outputs": [],
   "source": [
    "import pandas as pd\n",
    "import sys\n",
    "import os"
   ]
  },
  {
   "cell_type": "code",
   "execution_count": null,
   "metadata": {},
   "outputs": [
    {
     "name": "stdout",
     "output_type": "stream",
     "text": [
      "Comparing Facebook and LinkedIn Privacy Policies\n",
      "\n",
      "| Privacy Aspect | Facebook | LinkedIn |\n",
      "|---|---|---|\n",
      "| **Data Collection** | Collects information given during signup (email, phone, age), activity on the platform (clicks, likes, posts, messages), friends/followers, device information (type, app version), and information from partners (websites, apps, online games).  Also collects data about users even without an account.  The specifics depend on the product used (Marketplace vs. Instagram). | Collects data from members (professional identity, network engagement, content sharing) and visitors (content viewing). Data collection is detailed for members and visitors. Details on specific data points are not as explicitly defined. |\n",
      "| **Data Sharing** | Shares data with Meta products, integrated partners. Shares information with third parties, details unspecified in the provided policy. | Shares data with LinkedIn partners and for ad services.  Details about third-party data sharing are less explicitly detailed than in the Facebook policy. |\n",
      "| **User Rights** |  Explains user rights to manage and delete their information within the platform's settings. Links to resources and additional details for managing privacy on Meta Products. | Allows members and visitors choices about data collection, use, and sharing.  Provides settings and a Help Center for managing data. Includes regional privacy notices for EU/EEA/Switzerland and the UK.|\n",
      "| **Cookies** |  Mentions a Cookies Policy, but the specifics are not provided in the snippet. | Mentions a separate Cookie Policy but does not detail the content within this snippet. |\n",
      "| **Third-party Data** | Collects information from partners about user activity on other platforms. |  The policy mentions data from partners but the specifics aren't in this snippet. |\n",
      "| **Data Retention** |  Policy mentions data retention but doesn't provide specific durations. | Policy mentions data retention but doesn't provide specific durations. |\n",
      "| **Security Measures** | Policy mentions keeping data safe during transfer but doesn't detail the security measures employed. | Policy doesn't detail security measures for data. |\n",
      "\n",
      "\n",
      "**Important Note:**  The provided Facebook and LinkedIn policy excerpts are incomplete.  A full, comprehensive analysis of the complete privacy policies is crucial for a thorough comparison.  The summarized comparison above is based only on the provided excerpts and thus may not be entirely accurate.\n",
      "\n"
     ]
    }
   ],
   "source": [
    "import pandas as pd\n",
    "import sys\n",
    "import os\n",
    "\n",
    "sys.path.append(os.path.abspath('..'))\n",
    "\n",
    "# Importing from modules\n",
    "from src.policy_loader import load_policies\n",
    "from src.policy_comparator import compare_policies_gemini\n",
    "\n",
    "# Load data\n",
    "policy_df = load_policies(\"../data\")\n",
    "\n",
    "# Test the comparison function again\n",
    "result = compare_policies_gemini(\"Facebook\", \"LinkedIn\", policy_df)\n",
    "\n",
    "# Print result\n",
    "print(result)\n"
   ]
  },
  {
   "cell_type": "code",
   "execution_count": null,
   "metadata": {},
   "outputs": [],
   "source": []
  }
 ],
 "metadata": {
  "kernelspec": {
   "display_name": "base",
   "language": "python",
   "name": "python3"
  },
  "language_info": {
   "codemirror_mode": {
    "name": "ipython",
    "version": 3
   },
   "file_extension": ".py",
   "mimetype": "text/x-python",
   "name": "python",
   "nbconvert_exporter": "python",
   "pygments_lexer": "ipython3",
   "version": "3.9.18"
  }
 },
 "nbformat": 4,
 "nbformat_minor": 2
}
